{
 "cells": [
  {
   "cell_type": "markdown",
   "metadata": {},
   "source": [
    "# Data Ingestion & Pre-Processing\n",
    "This notebook ingests both the train and test datasets for the Ames Housing project in order to fit and score a Linear Regression model. Housing prices are then predicted using the test data and written to a .csv file."
   ]
  },
  {
   "cell_type": "code",
   "execution_count": 1,
   "metadata": {},
   "outputs": [],
   "source": [
    "import pandas as pd\n",
    "import numpy as np\n",
    "import matplotlib.pyplot as plt\n",
    "import seaborn as sns\n",
    "\n",
    "from sklearn.linear_model import LinearRegression, Ridge, RidgeCV, Lasso, LassoCV\n",
    "from sklearn.model_selection import train_test_split, cross_val_score, cross_val_predict\n",
    "from sklearn.metrics import mean_squared_error\n",
    "from sklearn.preprocessing import StandardScaler"
   ]
  },
  {
   "cell_type": "code",
   "execution_count": 2,
   "metadata": {},
   "outputs": [],
   "source": [
    "train_data = pd.read_csv('./datasets/train.csv')"
   ]
  },
  {
   "cell_type": "code",
   "execution_count": 3,
   "metadata": {},
   "outputs": [],
   "source": [
    "test_data = pd.read_csv('./datasets/test.csv')"
   ]
  },
  {
   "cell_type": "markdown",
   "metadata": {},
   "source": [
    "---\n",
    "\n",
    "# Feature Engineering\n",
    "Write functions that programmatically map common rating scales (Excellent, Good, Average, Fair, Poor) to numerical values."
   ]
  },
  {
   "cell_type": "code",
   "execution_count": 4,
   "metadata": {},
   "outputs": [],
   "source": [
    "def qual_cond_scale(obj):\n",
    "    if obj == 'Ex':\n",
    "        return 5\n",
    "    elif obj == 'Gd':\n",
    "        return 4\n",
    "    elif obj == 'TA':\n",
    "        return 3\n",
    "    elif obj == 'Fa':\n",
    "        return 2\n",
    "    elif obj == 'Po':\n",
    "        return 1\n",
    "    else:\n",
    "        return 0"
   ]
  },
  {
   "cell_type": "code",
   "execution_count": 5,
   "metadata": {},
   "outputs": [],
   "source": [
    "# BsmtFin Type 1 & Garage Finish column\n",
    "def finish_scale(obj):\n",
    "    if obj == 'GLQ':\n",
    "        return 6\n",
    "    elif obj == 'ALQ':\n",
    "        return 5\n",
    "    elif obj == 'BLQ':\n",
    "        return 4\n",
    "    elif obj == 'Rec' or obj == 'Fin':\n",
    "        return 3\n",
    "    elif obj == 'LwQ'or obj == 'RFn':\n",
    "        return 2\n",
    "    elif obj == 'Unf' or obj == 'Unf':\n",
    "        return 1\n",
    "    else:\n",
    "        return 0"
   ]
  },
  {
   "cell_type": "code",
   "execution_count": 6,
   "metadata": {},
   "outputs": [],
   "source": [
    "# Encode categorical variables in Functional column\n",
    "def func_scale(obj):\n",
    "    if obj == 'Typ':\n",
    "        return 7\n",
    "    elif obj == 'Min1':\n",
    "        return 6\n",
    "    elif obj == 'Min2':\n",
    "        return 5\n",
    "    elif obj == 'Mod':\n",
    "        return 4\n",
    "    elif obj == 'Maj1':\n",
    "        return 3\n",
    "    elif obj == 'Maj2':\n",
    "        return 2\n",
    "    elif obj == 'Sev':\n",
    "        return 1\n",
    "    elif obj == 'Sal':\n",
    "        return 0\n",
    "    else:\n",
    "        return np.nan"
   ]
  },
  {
   "cell_type": "code",
   "execution_count": 7,
   "metadata": {},
   "outputs": [],
   "source": [
    "# Create a custom feature that combines several quality & condition variables\n",
    "def merge_loc(df, col_list):\n",
    "    location_sum = []\n",
    "    for col in col_list:\n",
    "        location_sum.append(df[col] / df[col].mean())\n",
    "        \n",
    "    return round(sum(location_sum), 4)"
   ]
  },
  {
   "cell_type": "code",
   "execution_count": 8,
   "metadata": {},
   "outputs": [],
   "source": [
    "# Condense categorical location variables to either \"Near Road\", \"Near Rail\",  or \"Near Amenity\"\n",
    "def location_vars(obj):\n",
    "    if obj == 'RRNn' or obj == 'RRAn' or obj == 'RRNe' or obj == 'RRAe':\n",
    "        return 'near_rail'\n",
    "    elif obj == 'Artery' or obj == 'Feedr':\n",
    "        return 'near_road'\n",
    "    elif obj == 'PosN' or obj == 'PosA':\n",
    "        return 'near_amenity'\n",
    "    else:\n",
    "        return None"
   ]
  },
  {
   "cell_type": "code",
   "execution_count": 9,
   "metadata": {},
   "outputs": [],
   "source": [
    "# Create a dictionary to map nominal values in Neighborhoods to ordinal values\n",
    "neighborhoods = {'StoneBr':28, 'NridgHt':27, 'NoRidge':26, 'Veenker':25, 'Somerst':24, 'Timber':23, 'ClearCr':22, 'CollgCr':21,\n",
    "'Crawfor':20, 'NWAmes':19, 'SawyerW':18, 'Gilbert':17, 'Blmngtn':16, 'Mitchel':15, 'NAmes':14, \"Sawyer\":13,\n",
    "'SWISU':12, 'Edwards':11, 'BrkSide':10, 'OldTown':9, 'IDOTRR':8, 'GrnHill':7, 'Greens':6, 'Blueste':5,\n",
    "'NPkVill':4, 'MeadowV':3, 'BrDale':2, 'Landmrk':1}"
   ]
  },
  {
   "cell_type": "code",
   "execution_count": 10,
   "metadata": {},
   "outputs": [],
   "source": [
    "# Create a dictionary to map nominal values in Garage Type to ordinal values\n",
    "garages = {'BuiltIn':6, 'Attchd':5, '2Types':4, 'Basment':3, 'Detchd':2, 'CarPort':1}"
   ]
  },
  {
   "cell_type": "code",
   "execution_count": 11,
   "metadata": {},
   "outputs": [],
   "source": [
    "# Create a dictionary to map nominal values in Zoning to more readable categories\n",
    "zones = {'RL':'res_lo_dens', 'RM':'res_md_dens', 'FV':'res_float_vil', \"C (all)\":'commercial',\n",
    "           'RH':'res_hi_dens', \"A (agr)\":'agricultural', \"I (all)\":'industrial'}"
   ]
  },
  {
   "cell_type": "markdown",
   "metadata": {},
   "source": [
    "---\n",
    "# Pre-Process Raw Data\n",
    "Write a reproducible function to pre-process the housing data into machine-learning ready format."
   ]
  },
  {
   "cell_type": "code",
   "execution_count": 12,
   "metadata": {},
   "outputs": [],
   "source": [
    "def process_dataset(df):\n",
    "    \n",
    "    ### ENCODING CATEGORICAL VARIABLES ###\n",
    "    \n",
    "    # Encode categorical ratings to numeric scales\n",
    "    qual_cond_transform = [\n",
    "        'Exter Qual', 'Exter Cond', 'Bsmt Qual', 'Heating QC', 'Kitchen Qual',\n",
    "        'Fireplace Qu', 'Garage Qual', 'Garage Cond'] \n",
    "\n",
    "    for col in qual_cond_transform:\n",
    "        df[col] = df[col].apply(qual_cond_scale)\n",
    "    \n",
    "    df['Neighborhood'] = df['Neighborhood'].apply(lambda x: neighborhoods[x] if x in neighborhoods else 0)\n",
    "    df['Garage Type'] = df['Garage Type'].apply(lambda x: garages[x] if x in garages else 3.5)\n",
    "    df['MS Zoning'] = df['MS Zoning'].apply(lambda x: zones[x] if x in zones else None)\n",
    "    df['BsmtFin Type 1'] = df['BsmtFin Type 1'].apply(finish_scale)\n",
    "    df['Garage Finish'] = df['Garage Finish'].apply(finish_scale)\n",
    "    df['Functional'] = df['Functional'].apply(func_scale)\n",
    "    df['Condition 1'] = df['Condition 1'].apply(location_vars)\n",
    "    df['Condition 2'] = df['Condition 2'].apply(location_vars)\n",
    "    \n",
    "    # One-hot encode cateogrical features as dummy columns\n",
    "    bldg_types = pd.get_dummies(df['Bldg Type'], prefix = 'is')\n",
    "    year_sold = pd.get_dummies(df['Yr Sold'], prefix='sold')\n",
    "    zone_type = pd.get_dummies(df['MS Zoning'])\n",
    "    cond1 = pd.get_dummies(df['Condition 1'], prefix='cond1')\n",
    "    cond2 = pd.get_dummies(df['Condition 2'], prefix='cond2')\n",
    "    \n",
    "    # Concatenate dummy columns to original DataFrame\n",
    "    df = pd.concat([df, bldg_types, year_sold, zone_type], axis = 1)\n",
    "    \n",
    "    \n",
    "    ### FEATURE ENGINEERING ###\n",
    "     \n",
    "    # Interaction feature that combines several quality & condition variables\n",
    "    df['Loc Score'] = merge_loc(df, df[['Overall Qual', 'Overall Cond', 'Exter Qual', 'Exter Cond', 'Functional']])\n",
    "    \n",
    "    # Interaction feature that combines square footage from multiple levels of a building\n",
    "    df['Total SF'] = df['Total Bsmt SF'] + df['1st Flr SF'] + df['2nd Flr SF']\n",
    "    \n",
    "    # Combination of Residential Zoning dummy columns\n",
    "    df['residential'] = ((4*zone_type['res_float_vil']) + (3*zone_type['res_lo_dens']) +\n",
    "                    (2*zone_type['res_md_dens']) + (1*zone_type['res_hi_dens']))\n",
    "    \n",
    "    # Create new column if property has been remodeled in the last 10 years\n",
    "    #df['Recent Remod'] = ((2010 - df['Year Remod/Add'])>10)*1\n",
    "    \n",
    "    # Subtract Year Built from year of data collection to get age of home\n",
    "    #df['Year Built'] = 2010 - df['Year Built']\n",
    "    \n",
    "    # Add columns if property is near Road, Rail, or an Amenity\n",
    "    df['near_amenity'] = cond1['cond1_near_amenity'] + cond2['cond2_near_amenity']\n",
    "    if 'cond2_near_rail'in cond2.columns:\n",
    "        df['near_rail'] = cond1['cond1_near_rail'] + cond2['cond2_near_rail']\n",
    "    else:\n",
    "        df['near_rail'] = cond1['cond1_near_rail']\n",
    "    df['near_road'] = cond1['cond1_near_road'] + cond2['cond2_near_road']\n",
    "    \n",
    "    ### HANDLE STATISTICAL OUTLIERS ###\n",
    "    \n",
    "    # Drop outliers in General Living Area & Bedroom columns\n",
    "    df.drop(list(df[df['Gr Liv Area'] > 5_000].index), axis=0)\n",
    "    df.drop(list(df[df['Bedroom AbvGr'] > 6].index), axis=0)\n",
    "    \n",
    "    # Replace outliers in Kitchen & Total SqFt. column\n",
    "    df['Kitchen AbvGr'] = df['Kitchen AbvGr'].apply(lambda x: 2 if x >= 3 else (1 if x <= 0 else x))\n",
    "    df['Total SF'] = df['Total SF'].apply(lambda x: 6_000 if x >= 6_000 else x)\n",
    "    \n",
    "    ### FINAL PRE-PROCESSING ###\n",
    "    \n",
    "    # Drop original categorical columns that were encoded above\n",
    "    df.drop(columns=['Bldg Type', 'Yr Sold'], axis = 1, inplace = True)\n",
    "    \n",
    "    # List of unneccessary or irrelevant columns to drop\n",
    "    cols_to_drop = ['Id', 'PID', 'MS SubClass', 'MS Zoning', 'Condition 1', 'Condition 2', 'Lot Area',\n",
    "                'Street', 'Alley', 'Lot Shape', 'Land Contour', 'Utilities', 'Lot Config', 'Land Slope', \n",
    "                'Roof Style', 'Roof Matl', 'Exterior 1st', 'Exterior 2nd', 'Mas Vnr Type', 'Mas Vnr Area',\n",
    "                'Foundation', 'Bsmt Exposure', 'BsmtFin Type 2', 'BsmtFin SF 2',\n",
    "                'Heating', 'Central Air', 'Electrical', 'Low Qual Fin SF', 'Gr Liv Area',\n",
    "                'Garage Yr Blt', 'Paved Drive', 'Enclosed Porch', '1st Flr SF', 'Total Bsmt SF',\n",
    "                '3Ssn Porch', 'Screen Porch', 'Pool Area', 'Pool QC', 'Misc Val', 'Sale Type', \n",
    "                'House Style', 'Bsmt Cond', 'BsmtFin SF 1', 'Bsmt Unf SF', 'Bsmt Full Bath', 'Bsmt Half Bath',\n",
    "                '2nd Flr SF', 'TotRms AbvGrd', 'Half Bath', 'Fireplace Qu', 'Garage Area', 'Kitchen AbvGr',\n",
    "                'Fence', 'Misc Feature', 'Mo Sold', 'Lot Frontage', 'Functional', 'Year Remod/Add',\n",
    "                'Exter Qual', 'Exter Cond', 'Overall Cond', 'Garage Finish', 'Garage Qual', 'Open Porch SF',\n",
    "                'res_float_vil', 'res_lo_dens', 'res_md_dens', 'res_hi_dens']\n",
    "    \n",
    "    df = df.drop(cols_to_drop, axis = 1)\n",
    "    \n",
    "    extra_neighborhoods = ['in_GrnHill', 'in_Landmrk']\n",
    "    \n",
    "    if 'agricultural' in df.columns:\n",
    "        df.drop(columns='agricultural', axis = 1, inplace = True)\n",
    "    \n",
    "    for loc in extra_neighborhoods:\n",
    "        if loc in df.columns:\n",
    "            df.drop(loc, axis = 1, inplace = True)\n",
    "    \n",
    "    # Take the log of the Sale Price\n",
    "    if 'SalePrice' in df.columns:\n",
    "        df['SalePrice'] = np.log(df['SalePrice'])\n",
    "    \n",
    "    # Fill any missing values with 0\n",
    "    df = df.fillna(0)\n",
    "    \n",
    "    return df"
   ]
  },
  {
   "cell_type": "markdown",
   "metadata": {},
   "source": [
    "---\n",
    "# Train and Fit a Linear Regression Model\n",
    "Using the function written above, pre-process the train and test datasets."
   ]
  },
  {
   "cell_type": "code",
   "execution_count": 13,
   "metadata": {},
   "outputs": [],
   "source": [
    "df_train = process_dataset(train_data)"
   ]
  },
  {
   "cell_type": "code",
   "execution_count": 14,
   "metadata": {},
   "outputs": [],
   "source": [
    "Id = test_data['Id'] # Save test data Id column for Kaggle submission"
   ]
  },
  {
   "cell_type": "code",
   "execution_count": 15,
   "metadata": {},
   "outputs": [],
   "source": [
    "df_test = process_dataset(test_data)"
   ]
  },
  {
   "cell_type": "markdown",
   "metadata": {},
   "source": [
    "## Instantiate, Fit, and Score Model\n",
    "Split the training data into X and y variables in order to fit and score a Linear Regression model."
   ]
  },
  {
   "cell_type": "code",
   "execution_count": 16,
   "metadata": {},
   "outputs": [],
   "source": [
    "X = df_train.drop(columns='SalePrice')\n",
    "y = df_train['SalePrice']"
   ]
  },
  {
   "cell_type": "code",
   "execution_count": 17,
   "metadata": {},
   "outputs": [
    {
     "data": {
      "text/plain": [
       "LinearRegression()"
      ]
     },
     "execution_count": 17,
     "metadata": {},
     "output_type": "execute_result"
    }
   ],
   "source": [
    "X_train, X_test, y_train, y_test = train_test_split(X, y, random_state=30)\n",
    "lr = LinearRegression()\n",
    "lr.fit(X_train, y_train)"
   ]
  },
  {
   "cell_type": "markdown",
   "metadata": {},
   "source": [
    "#### Calculate metrics to score model on training data"
   ]
  },
  {
   "cell_type": "code",
   "execution_count": 18,
   "metadata": {},
   "outputs": [],
   "source": [
    "def metrics(model, X, y):\n",
    "    #Generate predictions using train testset\n",
    "    y_preds = model.predict(X)\n",
    "    \n",
    "    r2 = model.score(X, y)\n",
    "    rmse = mean_squared_error(np.exp(y), np.exp(y_preds), squared = False)\n",
    "    \n",
    "    return (f\"r2={round(r2, 4)}, rmse={round(rmse, 4)}\")"
   ]
  },
  {
   "cell_type": "code",
   "execution_count": 19,
   "metadata": {},
   "outputs": [],
   "source": [
    "def baseline_mse(y):\n",
    "    return round(mean_squared_error(np.exp(y), np.array([np.exp(y).mean()]*len(y)), squared = False), 4)"
   ]
  },
  {
   "cell_type": "code",
   "execution_count": 20,
   "metadata": {},
   "outputs": [
    {
     "data": {
      "text/plain": [
       "'r2=0.9084, rmse=23594.3642'"
      ]
     },
     "execution_count": 20,
     "metadata": {},
     "output_type": "execute_result"
    }
   ],
   "source": [
    "metrics(lr, X_train, y_train)"
   ]
  },
  {
   "cell_type": "code",
   "execution_count": 21,
   "metadata": {},
   "outputs": [
    {
     "name": "stdout",
     "output_type": "stream",
     "text": [
      "baseline rmse = 79577.726\n"
     ]
    }
   ],
   "source": [
    "print(f\"baseline rmse = {baseline_mse(y_train)}\")"
   ]
  },
  {
   "cell_type": "code",
   "execution_count": 22,
   "metadata": {},
   "outputs": [
    {
     "data": {
      "text/plain": [
       "0.9017270053395547"
      ]
     },
     "execution_count": 22,
     "metadata": {},
     "output_type": "execute_result"
    }
   ],
   "source": [
    "cross_val_score(lr, X_train, y_train).mean()"
   ]
  },
  {
   "cell_type": "code",
   "execution_count": 23,
   "metadata": {},
   "outputs": [
    {
     "data": {
      "text/plain": [
       "'r2=0.8244, rmse=36526.3748'"
      ]
     },
     "execution_count": 23,
     "metadata": {},
     "output_type": "execute_result"
    }
   ],
   "source": [
    "metrics(lr, X_test, y_test)"
   ]
  },
  {
   "cell_type": "code",
   "execution_count": 24,
   "metadata": {
    "scrolled": true
   },
   "outputs": [
    {
     "name": "stdout",
     "output_type": "stream",
     "text": [
      "baseline rmse = 78194.5682\n"
     ]
    }
   ],
   "source": [
    "print(f\"baseline rmse = {baseline_mse(y_test)}\")"
   ]
  },
  {
   "cell_type": "markdown",
   "metadata": {},
   "source": [
    "### Evaluate accuracy of model using variable coefficients"
   ]
  },
  {
   "cell_type": "code",
   "execution_count": 25,
   "metadata": {},
   "outputs": [],
   "source": [
    "coefs_LR = pd.DataFrame(data=(list((zip(X.columns, np.exp(lr.coef_.ravel()))))))\n",
    "coefs_LR.columns=['Variable', 'Coefficient']\n",
    "coefs_LR.set_index('Variable', inplace = True)\n",
    "avg_price = np.exp(df_train['SalePrice'].mean())\n",
    "coefs_LR['Coefficient'] = (coefs_LR['Coefficient'] - 1) * avg_price"
   ]
  },
  {
   "cell_type": "code",
   "execution_count": 26,
   "metadata": {},
   "outputs": [
    {
     "data": {
      "image/png": "[encoded data removed]",
      "text/plain": [
       "<Figure size 720x864 with 1 Axes>"
      ]
     },
     "metadata": {
      "needs_background": "light"
     },
     "output_type": "display_data"
    }
   ],
   "source": [
    "plt.figure(figsize=(10, 12))\n",
    "plt.barh(y=list(coefs_LR.index), width=list(coefs_LR.values.ravel()));\n",
    "plt.title(\"Coefficients for Variables in Linear Regression Model\", fontsize=14);"
   ]
  },
  {
   "cell_type": "code",
   "execution_count": 27,
   "metadata": {},
   "outputs": [
    {
     "data": {
      "text/html": [
       "<div>\n",
       "<style scoped>\n",
       "    .dataframe tbody tr th:only-of-type {\n",
       "        vertical-align: middle;\n",
       "    }\n",
       "\n",
       "    .dataframe tbody tr th {\n",
       "        vertical-align: top;\n",
       "    }\n",
       "\n",
       "    .dataframe thead th {\n",
       "        text-align: right;\n",
       "    }\n",
       "</style>\n",
       "<table border=\"1\" class=\"dataframe\">\n",
       "  <thead>\n",
       "    <tr style=\"text-align: right;\">\n",
       "      <th></th>\n",
       "      <th>Coefficient</th>\n",
       "    </tr>\n",
       "    <tr>\n",
       "      <th>Variable</th>\n",
       "      <th></th>\n",
       "    </tr>\n",
       "  </thead>\n",
       "  <tbody>\n",
       "    <tr>\n",
       "      <th>Loc Score</th>\n",
       "      <td>29621.201585</td>\n",
       "    </tr>\n",
       "    <tr>\n",
       "      <th>industrial</th>\n",
       "      <td>14306.025994</td>\n",
       "    </tr>\n",
       "    <tr>\n",
       "      <th>is_2fmCon</th>\n",
       "      <td>9560.780914</td>\n",
       "    </tr>\n",
       "    <tr>\n",
       "      <th>Fireplaces</th>\n",
       "      <td>9501.953419</td>\n",
       "    </tr>\n",
       "    <tr>\n",
       "      <th>near_amenity</th>\n",
       "      <td>7700.045958</td>\n",
       "    </tr>\n",
       "    <tr>\n",
       "      <th>Garage Cars</th>\n",
       "      <td>6592.863337</td>\n",
       "    </tr>\n",
       "    <tr>\n",
       "      <th>Overall Qual</th>\n",
       "      <td>5709.318297</td>\n",
       "    </tr>\n",
       "    <tr>\n",
       "      <th>Kitchen Qual</th>\n",
       "      <td>5700.581130</td>\n",
       "    </tr>\n",
       "    <tr>\n",
       "      <th>is_1Fam</th>\n",
       "      <td>5316.119866</td>\n",
       "    </tr>\n",
       "    <tr>\n",
       "      <th>residential</th>\n",
       "      <td>4761.806142</td>\n",
       "    </tr>\n",
       "  </tbody>\n",
       "</table>\n",
       "</div>"
      ],
      "text/plain": [
       "               Coefficient\n",
       "Variable                  \n",
       "Loc Score     29621.201585\n",
       "industrial    14306.025994\n",
       "is_2fmCon      9560.780914\n",
       "Fireplaces     9501.953419\n",
       "near_amenity   7700.045958\n",
       "Garage Cars    6592.863337\n",
       "Overall Qual   5709.318297\n",
       "Kitchen Qual   5700.581130\n",
       "is_1Fam        5316.119866\n",
       "residential    4761.806142"
      ]
     },
     "execution_count": 27,
     "metadata": {},
     "output_type": "execute_result"
    }
   ],
   "source": [
    "coefs_LR.sort_values('Coefficient', ascending=False).head(10)"
   ]
  },
  {
   "cell_type": "code",
   "execution_count": 28,
   "metadata": {},
   "outputs": [
    {
     "data": {
      "image/png": "[encoded data removed]",
      "text/plain": [
       "<Figure size 576x432 with 1 Axes>"
      ]
     },
     "metadata": {
      "needs_background": "light"
     },
     "output_type": "display_data"
    }
   ],
   "source": [
    "OLS_preds = lr.predict(X_train)\n",
    "\n",
    "plt.figure(figsize=(8,6));\n",
    "x_axis = np.exp(y_train)\n",
    "y_axis = np.exp(OLS_preds)\n",
    "\n",
    "plt.scatter(x=x_axis, y=y_axis, alpha=.3)\n",
    "plt.title(\"\\nLinear Regression Model\", fontsize=16);\n",
    "plt.xlabel('Actual Prices', fontsize=12);\n",
    "plt.ylabel('Predicted Prices', fontsize=12);\n",
    "\n",
    "trendline = np.polyfit(x_axis, y_axis, 1)\n",
    "line = np.poly1d(trendline)\n",
    "plt.plot(x_axis, line(x_axis), \"r--\", linestyle='--')\n",
    "\n",
    "plt.show()"
   ]
  },
  {
   "cell_type": "markdown",
   "metadata": {},
   "source": [
    "# Fit and Score a Ridge Regression"
   ]
  },
  {
   "cell_type": "code",
   "execution_count": 29,
   "metadata": {},
   "outputs": [],
   "source": [
    "sc = StandardScaler()\n",
    "Z_train = sc.fit_transform(X_train)\n",
    "Z_test = sc.transform(X_test)"
   ]
  },
  {
   "cell_type": "code",
   "execution_count": 30,
   "metadata": {},
   "outputs": [
    {
     "data": {
      "text/plain": [
       "Ridge(alpha=18.48)"
      ]
     },
     "execution_count": 30,
     "metadata": {},
     "output_type": "execute_result"
    }
   ],
   "source": [
    "ridge = Ridge(alpha=18.48)\n",
    "ridge.fit(Z_train, y_train)"
   ]
  },
  {
   "cell_type": "markdown",
   "metadata": {},
   "source": [
    "Cross validate for the best alpha value of a Ridge Regression."
   ]
  },
  {
   "cell_type": "code",
   "execution_count": 31,
   "metadata": {},
   "outputs": [
    {
     "data": {
      "text/plain": [
       "18.484848484848484"
      ]
     },
     "execution_count": 31,
     "metadata": {},
     "output_type": "execute_result"
    }
   ],
   "source": [
    "# Range of 50 numbers between -10 and 20\n",
    "ridge_alphas = np.linspace(-10, 50, 100)\n",
    "\n",
    "# Cross-validate over range of ridge alphas\n",
    "ridge_cv = RidgeCV(alphas=ridge_alphas, scoring='r2', cv=10)\n",
    "\n",
    "# Fit ridge model to optimal alpha value\n",
    "ridge_cv.fit(Z_train, y_train)\n",
    "\n",
    "ridge_cv.alpha_"
   ]
  },
  {
   "cell_type": "code",
   "execution_count": 32,
   "metadata": {},
   "outputs": [
    {
     "data": {
      "text/plain": [
       "'r2=0.9084, rmse=23629.6635'"
      ]
     },
     "execution_count": 32,
     "metadata": {},
     "output_type": "execute_result"
    }
   ],
   "source": [
    "metrics(ridge, Z_train, y_train)"
   ]
  },
  {
   "cell_type": "code",
   "execution_count": 33,
   "metadata": {},
   "outputs": [
    {
     "data": {
      "text/plain": [
       "0.9018733275798224"
      ]
     },
     "execution_count": 33,
     "metadata": {},
     "output_type": "execute_result"
    }
   ],
   "source": [
    "cross_val_score(ridge, Z_train, y_train).mean()"
   ]
  },
  {
   "cell_type": "code",
   "execution_count": 34,
   "metadata": {},
   "outputs": [
    {
     "data": {
      "text/plain": [
       "'r2=0.826, rmse=35830.0119'"
      ]
     },
     "execution_count": 34,
     "metadata": {},
     "output_type": "execute_result"
    }
   ],
   "source": [
    "metrics(ridge, Z_test, y_test)"
   ]
  },
  {
   "cell_type": "code",
   "execution_count": 35,
   "metadata": {},
   "outputs": [
    {
     "data": {
      "image/png": "[encoded data removed]",
      "text/plain": [
       "<Figure size 576x432 with 1 Axes>"
      ]
     },
     "metadata": {
      "needs_background": "light"
     },
     "output_type": "display_data"
    }
   ],
   "source": [
    "ridge_preds = ridge.predict(Z_train)\n",
    "\n",
    "plt.figure(figsize=(8,6));\n",
    "x2_axis = np.exp(y_train)\n",
    "y2_axis = np.exp(ridge_preds)\n",
    "\n",
    "plt.scatter(x=x2_axis, y=y2_axis, alpha=.3)\n",
    "plt.title(\"\\nRidge Regression Model\", fontsize=16);\n",
    "plt.xlabel('Actual Prices', fontsize=12);\n",
    "plt.ylabel('Predicted Prices', fontsize=12);\n",
    "\n",
    "trendline2 = np.polyfit(x2_axis, y2_axis, 1)\n",
    "line2 = np.poly1d(trendline2)\n",
    "plt.plot(x2_axis, line2(x2_axis), \"r--\", linestyle='--')\n",
    "\n",
    "plt.show()"
   ]
  },
  {
   "cell_type": "code",
   "execution_count": 36,
   "metadata": {},
   "outputs": [],
   "source": [
    "coefs_ridge = pd.DataFrame(data=(list((zip(X.columns, np.exp(ridge_cv.coef_.ravel()))))))\n",
    "coefs_ridge.columns=['Variable', 'Coefficient']\n",
    "coefs_ridge.set_index('Variable', inplace = True)\n",
    "avg_price = np.exp(df_train['SalePrice'].mean())\n",
    "coefs_ridge['Coefficient'] = (coefs_ridge['Coefficient'] - 1) * avg_price"
   ]
  },
  {
   "cell_type": "code",
   "execution_count": 37,
   "metadata": {},
   "outputs": [
    {
     "data": {
      "image/png": "[encoded data removed]",
      "text/plain": [
       "<Figure size 720x864 with 1 Axes>"
      ]
     },
     "metadata": {
      "needs_background": "light"
     },
     "output_type": "display_data"
    }
   ],
   "source": [
    "plt.figure(figsize=(10, 12))\n",
    "plt.barh(y=list(coefs_ridge.index), width=list(coefs_ridge.values.ravel()));\n",
    "plt.title(\"Coefficients for Variables in Ridge Regression Model\", fontsize=14);"
   ]
  },
  {
   "cell_type": "code",
   "execution_count": 38,
   "metadata": {},
   "outputs": [
    {
     "data": {
      "text/html": [
       "<div>\n",
       "<style scoped>\n",
       "    .dataframe tbody tr th:only-of-type {\n",
       "        vertical-align: middle;\n",
       "    }\n",
       "\n",
       "    .dataframe tbody tr th {\n",
       "        vertical-align: top;\n",
       "    }\n",
       "\n",
       "    .dataframe thead th {\n",
       "        text-align: right;\n",
       "    }\n",
       "</style>\n",
       "<table border=\"1\" class=\"dataframe\">\n",
       "  <thead>\n",
       "    <tr style=\"text-align: right;\">\n",
       "      <th></th>\n",
       "      <th>Coefficient</th>\n",
       "    </tr>\n",
       "    <tr>\n",
       "      <th>Variable</th>\n",
       "      <th></th>\n",
       "    </tr>\n",
       "  </thead>\n",
       "  <tbody>\n",
       "    <tr>\n",
       "      <th>Total SF</th>\n",
       "      <td>27774.954900</td>\n",
       "    </tr>\n",
       "    <tr>\n",
       "      <th>Loc Score</th>\n",
       "      <td>13265.435304</td>\n",
       "    </tr>\n",
       "    <tr>\n",
       "      <th>Overall Qual</th>\n",
       "      <td>8515.922334</td>\n",
       "    </tr>\n",
       "    <tr>\n",
       "      <th>Year Built</th>\n",
       "      <td>6866.754658</td>\n",
       "    </tr>\n",
       "    <tr>\n",
       "      <th>Fireplaces</th>\n",
       "      <td>6102.026789</td>\n",
       "    </tr>\n",
       "  </tbody>\n",
       "</table>\n",
       "</div>"
      ],
      "text/plain": [
       "               Coefficient\n",
       "Variable                  \n",
       "Total SF      27774.954900\n",
       "Loc Score     13265.435304\n",
       "Overall Qual   8515.922334\n",
       "Year Built     6866.754658\n",
       "Fireplaces     6102.026789"
      ]
     },
     "execution_count": 38,
     "metadata": {},
     "output_type": "execute_result"
    }
   ],
   "source": [
    "coefs_ridge.sort_values('Coefficient', ascending=False).head()"
   ]
  },
  {
   "cell_type": "markdown",
   "metadata": {},
   "source": [
    "# Fit and Score a Lasso Regression"
   ]
  },
  {
   "cell_type": "code",
   "execution_count": 39,
   "metadata": {},
   "outputs": [
    {
     "data": {
      "text/plain": [
       "Lasso(alpha=0.0001)"
      ]
     },
     "execution_count": 39,
     "metadata": {},
     "output_type": "execute_result"
    }
   ],
   "source": [
    "lasso = Lasso(.0001)\n",
    "lasso.fit(X_train, y_train)"
   ]
  },
  {
   "cell_type": "code",
   "execution_count": 40,
   "metadata": {},
   "outputs": [
    {
     "data": {
      "text/plain": [
       "0.0001"
      ]
     },
     "execution_count": 40,
     "metadata": {},
     "output_type": "execute_result"
    }
   ],
   "source": [
    "lasso_alphas = np.linspace(0.0001, 1, 50)\n",
    "\n",
    "# Cross-validate over range of Lasso alphas\n",
    "lasso_cv = LassoCV(alphas=lasso_alphas, cv=5, max_iter=50000)\n",
    "\n",
    "# Fit model using best ridge alpha\n",
    "lasso_cv.fit(Z_train, y_train);\n",
    "\n",
    "lasso_cv.alpha_"
   ]
  },
  {
   "cell_type": "code",
   "execution_count": 41,
   "metadata": {},
   "outputs": [
    {
     "data": {
      "text/plain": [
       "'r2=0.9084, rmse=23587.5755'"
      ]
     },
     "execution_count": 41,
     "metadata": {},
     "output_type": "execute_result"
    }
   ],
   "source": [
    "metrics(lasso, X_train, y_train)"
   ]
  },
  {
   "cell_type": "code",
   "execution_count": 42,
   "metadata": {},
   "outputs": [
    {
     "data": {
      "text/plain": [
       "0.9017607613410284"
      ]
     },
     "execution_count": 42,
     "metadata": {},
     "output_type": "execute_result"
    }
   ],
   "source": [
    "cross_val_score(lasso, X_train, y_train).mean()"
   ]
  },
  {
   "cell_type": "code",
   "execution_count": 43,
   "metadata": {},
   "outputs": [
    {
     "data": {
      "text/plain": [
       "'r2=0.8249, rmse=36522.0631'"
      ]
     },
     "execution_count": 43,
     "metadata": {},
     "output_type": "execute_result"
    }
   ],
   "source": [
    "metrics(lasso, X_test, y_test)"
   ]
  },
  {
   "cell_type": "code",
   "execution_count": 44,
   "metadata": {},
   "outputs": [],
   "source": [
    "coefs_lasso = pd.DataFrame(data=(list((zip(X.columns, np.exp(lasso.coef_.ravel()))))))\n",
    "coefs_lasso.columns=['Variable', 'Coefficient']\n",
    "coefs_lasso.set_index('Variable', inplace = True)\n",
    "avg_price = np.exp(df_train['SalePrice'].mean())\n",
    "coefs_lasso['Coefficient'] = (coefs_lasso['Coefficient'] - 1) * avg_price"
   ]
  },
  {
   "cell_type": "code",
   "execution_count": 45,
   "metadata": {},
   "outputs": [
    {
     "data": {
      "text/html": [
       "<div>\n",
       "<style scoped>\n",
       "    .dataframe tbody tr th:only-of-type {\n",
       "        vertical-align: middle;\n",
       "    }\n",
       "\n",
       "    .dataframe tbody tr th {\n",
       "        vertical-align: top;\n",
       "    }\n",
       "\n",
       "    .dataframe thead th {\n",
       "        text-align: right;\n",
       "    }\n",
       "</style>\n",
       "<table border=\"1\" class=\"dataframe\">\n",
       "  <thead>\n",
       "    <tr style=\"text-align: right;\">\n",
       "      <th></th>\n",
       "      <th>Coefficient</th>\n",
       "    </tr>\n",
       "    <tr>\n",
       "      <th>Variable</th>\n",
       "      <th></th>\n",
       "    </tr>\n",
       "  </thead>\n",
       "  <tbody>\n",
       "    <tr>\n",
       "      <th>Loc Score</th>\n",
       "      <td>29377.188831</td>\n",
       "    </tr>\n",
       "    <tr>\n",
       "      <th>is_2fmCon</th>\n",
       "      <td>11408.818038</td>\n",
       "    </tr>\n",
       "    <tr>\n",
       "      <th>Fireplaces</th>\n",
       "      <td>9449.657442</td>\n",
       "    </tr>\n",
       "    <tr>\n",
       "      <th>is_1Fam</th>\n",
       "      <td>7903.334236</td>\n",
       "    </tr>\n",
       "    <tr>\n",
       "      <th>near_amenity</th>\n",
       "      <td>7000.975485</td>\n",
       "    </tr>\n",
       "    <tr>\n",
       "      <th>Garage Cars</th>\n",
       "      <td>6562.400158</td>\n",
       "    </tr>\n",
       "    <tr>\n",
       "      <th>Overall Qual</th>\n",
       "      <td>5742.322777</td>\n",
       "    </tr>\n",
       "    <tr>\n",
       "      <th>Kitchen Qual</th>\n",
       "      <td>5680.400471</td>\n",
       "    </tr>\n",
       "    <tr>\n",
       "      <th>residential</th>\n",
       "      <td>4796.885828</td>\n",
       "    </tr>\n",
       "    <tr>\n",
       "      <th>Garage Cond</th>\n",
       "      <td>2749.203087</td>\n",
       "    </tr>\n",
       "    <tr>\n",
       "      <th>Heating QC</th>\n",
       "      <td>2723.894660</td>\n",
       "    </tr>\n",
       "    <tr>\n",
       "      <th>BsmtFin Type 1</th>\n",
       "      <td>2084.651290</td>\n",
       "    </tr>\n",
       "    <tr>\n",
       "      <th>Full Bath</th>\n",
       "      <td>1635.082905</td>\n",
       "    </tr>\n",
       "    <tr>\n",
       "      <th>Garage Type</th>\n",
       "      <td>900.416810</td>\n",
       "    </tr>\n",
       "    <tr>\n",
       "      <th>Neighborhood</th>\n",
       "      <td>874.506807</td>\n",
       "    </tr>\n",
       "    <tr>\n",
       "      <th>sold_2006</th>\n",
       "      <td>739.155526</td>\n",
       "    </tr>\n",
       "    <tr>\n",
       "      <th>Bedroom AbvGr</th>\n",
       "      <td>668.455667</td>\n",
       "    </tr>\n",
       "    <tr>\n",
       "      <th>Year Built</th>\n",
       "      <td>237.063905</td>\n",
       "    </tr>\n",
       "    <tr>\n",
       "      <th>sold_2008</th>\n",
       "      <td>73.428570</td>\n",
       "    </tr>\n",
       "    <tr>\n",
       "      <th>Total SF</th>\n",
       "      <td>34.854664</td>\n",
       "    </tr>\n",
       "    <tr>\n",
       "      <th>Wood Deck SF</th>\n",
       "      <td>12.040974</td>\n",
       "    </tr>\n",
       "    <tr>\n",
       "      <th>industrial</th>\n",
       "      <td>0.000000</td>\n",
       "    </tr>\n",
       "    <tr>\n",
       "      <th>is_Duplex</th>\n",
       "      <td>0.000000</td>\n",
       "    </tr>\n",
       "    <tr>\n",
       "      <th>sold_2007</th>\n",
       "      <td>0.000000</td>\n",
       "    </tr>\n",
       "    <tr>\n",
       "      <th>is_TwnhsE</th>\n",
       "      <td>0.000000</td>\n",
       "    </tr>\n",
       "    <tr>\n",
       "      <th>sold_2010</th>\n",
       "      <td>-74.786072</td>\n",
       "    </tr>\n",
       "    <tr>\n",
       "      <th>Bsmt Qual</th>\n",
       "      <td>-1240.612434</td>\n",
       "    </tr>\n",
       "    <tr>\n",
       "      <th>sold_2009</th>\n",
       "      <td>-2150.042092</td>\n",
       "    </tr>\n",
       "    <tr>\n",
       "      <th>near_rail</th>\n",
       "      <td>-3511.711674</td>\n",
       "    </tr>\n",
       "    <tr>\n",
       "      <th>near_road</th>\n",
       "      <td>-4395.044263</td>\n",
       "    </tr>\n",
       "    <tr>\n",
       "      <th>is_Twnhs</th>\n",
       "      <td>-5725.391131</td>\n",
       "    </tr>\n",
       "    <tr>\n",
       "      <th>commercial</th>\n",
       "      <td>-37846.507161</td>\n",
       "    </tr>\n",
       "  </tbody>\n",
       "</table>\n",
       "</div>"
      ],
      "text/plain": [
       "                 Coefficient\n",
       "Variable                    \n",
       "Loc Score       29377.188831\n",
       "is_2fmCon       11408.818038\n",
       "Fireplaces       9449.657442\n",
       "is_1Fam          7903.334236\n",
       "near_amenity     7000.975485\n",
       "Garage Cars      6562.400158\n",
       "Overall Qual     5742.322777\n",
       "Kitchen Qual     5680.400471\n",
       "residential      4796.885828\n",
       "Garage Cond      2749.203087\n",
       "Heating QC       2723.894660\n",
       "BsmtFin Type 1   2084.651290\n",
       "Full Bath        1635.082905\n",
       "Garage Type       900.416810\n",
       "Neighborhood      874.506807\n",
       "sold_2006         739.155526\n",
       "Bedroom AbvGr     668.455667\n",
       "Year Built        237.063905\n",
       "sold_2008          73.428570\n",
       "Total SF           34.854664\n",
       "Wood Deck SF       12.040974\n",
       "industrial          0.000000\n",
       "is_Duplex           0.000000\n",
       "sold_2007           0.000000\n",
       "is_TwnhsE           0.000000\n",
       "sold_2010         -74.786072\n",
       "Bsmt Qual       -1240.612434\n",
       "sold_2009       -2150.042092\n",
       "near_rail       -3511.711674\n",
       "near_road       -4395.044263\n",
       "is_Twnhs        -5725.391131\n",
       "commercial     -37846.507161"
      ]
     },
     "execution_count": 45,
     "metadata": {},
     "output_type": "execute_result"
    }
   ],
   "source": [
    "coefs_lasso.sort_values('Coefficient', ascending=False)"
   ]
  },
  {
   "cell_type": "markdown",
   "metadata": {},
   "source": [
    "This zeroed out a number of variables but had a slightly lower R2 score."
   ]
  },
  {
   "cell_type": "markdown",
   "metadata": {},
   "source": [
    "---\n",
    "## Predict unseen housing prices using the test data"
   ]
  },
  {
   "cell_type": "code",
   "execution_count": 46,
   "metadata": {},
   "outputs": [
    {
     "data": {
      "text/html": [
       "<div>\n",
       "<style scoped>\n",
       "    .dataframe tbody tr th:only-of-type {\n",
       "        vertical-align: middle;\n",
       "    }\n",
       "\n",
       "    .dataframe tbody tr th {\n",
       "        vertical-align: top;\n",
       "    }\n",
       "\n",
       "    .dataframe thead th {\n",
       "        text-align: right;\n",
       "    }\n",
       "</style>\n",
       "<table border=\"1\" class=\"dataframe\">\n",
       "  <thead>\n",
       "    <tr style=\"text-align: right;\">\n",
       "      <th></th>\n",
       "      <th>0</th>\n",
       "    </tr>\n",
       "    <tr>\n",
       "      <th>Id</th>\n",
       "      <th></th>\n",
       "    </tr>\n",
       "  </thead>\n",
       "  <tbody>\n",
       "    <tr>\n",
       "      <th>2658</th>\n",
       "      <td>135500.653617</td>\n",
       "    </tr>\n",
       "    <tr>\n",
       "      <th>2718</th>\n",
       "      <td>177337.380628</td>\n",
       "    </tr>\n",
       "    <tr>\n",
       "      <th>2414</th>\n",
       "      <td>198107.286173</td>\n",
       "    </tr>\n",
       "    <tr>\n",
       "      <th>1989</th>\n",
       "      <td>114356.503020</td>\n",
       "    </tr>\n",
       "    <tr>\n",
       "      <th>625</th>\n",
       "      <td>176920.625852</td>\n",
       "    </tr>\n",
       "    <tr>\n",
       "      <th>...</th>\n",
       "      <td>...</td>\n",
       "    </tr>\n",
       "    <tr>\n",
       "      <th>1662</th>\n",
       "      <td>200935.462118</td>\n",
       "    </tr>\n",
       "    <tr>\n",
       "      <th>1234</th>\n",
       "      <td>228022.749429</td>\n",
       "    </tr>\n",
       "    <tr>\n",
       "      <th>1373</th>\n",
       "      <td>134755.321112</td>\n",
       "    </tr>\n",
       "    <tr>\n",
       "      <th>1672</th>\n",
       "      <td>117227.219066</td>\n",
       "    </tr>\n",
       "    <tr>\n",
       "      <th>1939</th>\n",
       "      <td>139081.010191</td>\n",
       "    </tr>\n",
       "  </tbody>\n",
       "</table>\n",
       "<p>878 rows × 1 columns</p>\n",
       "</div>"
      ],
      "text/plain": [
       "                  0\n",
       "Id                 \n",
       "2658  135500.653617\n",
       "2718  177337.380628\n",
       "2414  198107.286173\n",
       "1989  114356.503020\n",
       "625   176920.625852\n",
       "...             ...\n",
       "1662  200935.462118\n",
       "1234  228022.749429\n",
       "1373  134755.321112\n",
       "1672  117227.219066\n",
       "1939  139081.010191\n",
       "\n",
       "[878 rows x 1 columns]"
      ]
     },
     "execution_count": 46,
     "metadata": {},
     "output_type": "execute_result"
    }
   ],
   "source": [
    "predicted_prices = ridge.predict(sc.transform(df_test))\n",
    "df_kaggle_subs = pd.DataFrame(data = np.exp(predicted_prices))\n",
    "df_kaggle_subs.set_index(Id, inplace = True) # set index to Id column in test dataset\n",
    "df_kaggle_subs"
   ]
  },
  {
   "cell_type": "code",
   "execution_count": 47,
   "metadata": {},
   "outputs": [],
   "source": [
    "# Save predicted y-values to csv\n",
    "#df_kaggle_subs.to_csv('./datasets/submissions/ridge.csv', index = True, header = ['SalePrice'])"
   ]
  },
  {
   "cell_type": "code",
   "execution_count": null,
   "metadata": {},
   "outputs": [],
   "source": []
  }
 ],
 "metadata": {
  "kernelspec": {
   "display_name": "Python 3",
   "language": "python",
   "name": "python3"
  },
  "language_info": {
   "codemirror_mode": {
    "name": "ipython",
    "version": 3
   },
   "file_extension": ".py",
   "mimetype": "text/x-python",
   "name": "python",
   "nbconvert_exporter": "python",
   "pygments_lexer": "ipython3",
   "version": "3.8.5"
  }
 },
 "nbformat": 4,
 "nbformat_minor": 4
}
